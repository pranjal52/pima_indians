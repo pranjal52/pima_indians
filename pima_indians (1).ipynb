{
 "cells": [
  {
   "cell_type": "markdown",
   "metadata": {},
   "source": [
    "## Importing Dependancies"
   ]
  },
  {
   "cell_type": "code",
   "execution_count": 2,
   "metadata": {
    "collapsed": false
   },
   "outputs": [
    {
     "name": "stderr",
     "output_type": "stream",
     "text": [
      "Using TensorFlow backend.\n"
     ]
    }
   ],
   "source": [
    "import keras\n",
    "import pandas as pd\n",
    "import numpy as np\n",
    "from keras.models import Sequential\n",
    "from keras.layers import Dense\n",
    "from keras.layers import Dropout\n",
    "from sklearn.cross_validation import train_test_split\n"
   ]
  },
  {
   "cell_type": "markdown",
   "metadata": {},
   "source": [
    "## Loading data"
   ]
  },
  {
   "cell_type": "code",
   "execution_count": 3,
   "metadata": {
    "collapsed": false
   },
   "outputs": [
    {
     "data": {
      "text/html": [
       "<div>\n",
       "<table border=\"1\" class=\"dataframe\">\n",
       "  <thead>\n",
       "    <tr style=\"text-align: right;\">\n",
       "      <th></th>\n",
       "      <th>0</th>\n",
       "      <th>1</th>\n",
       "      <th>2</th>\n",
       "      <th>3</th>\n",
       "      <th>4</th>\n",
       "      <th>5</th>\n",
       "      <th>6</th>\n",
       "      <th>7</th>\n",
       "      <th>8</th>\n",
       "    </tr>\n",
       "  </thead>\n",
       "  <tbody>\n",
       "    <tr>\n",
       "      <th>0</th>\n",
       "      <td>6</td>\n",
       "      <td>148</td>\n",
       "      <td>72</td>\n",
       "      <td>35</td>\n",
       "      <td>0</td>\n",
       "      <td>33.6</td>\n",
       "      <td>0.627</td>\n",
       "      <td>50</td>\n",
       "      <td>1</td>\n",
       "    </tr>\n",
       "    <tr>\n",
       "      <th>1</th>\n",
       "      <td>1</td>\n",
       "      <td>85</td>\n",
       "      <td>66</td>\n",
       "      <td>29</td>\n",
       "      <td>0</td>\n",
       "      <td>26.6</td>\n",
       "      <td>0.351</td>\n",
       "      <td>31</td>\n",
       "      <td>0</td>\n",
       "    </tr>\n",
       "    <tr>\n",
       "      <th>2</th>\n",
       "      <td>8</td>\n",
       "      <td>183</td>\n",
       "      <td>64</td>\n",
       "      <td>0</td>\n",
       "      <td>0</td>\n",
       "      <td>23.3</td>\n",
       "      <td>0.672</td>\n",
       "      <td>32</td>\n",
       "      <td>1</td>\n",
       "    </tr>\n",
       "    <tr>\n",
       "      <th>3</th>\n",
       "      <td>1</td>\n",
       "      <td>89</td>\n",
       "      <td>66</td>\n",
       "      <td>23</td>\n",
       "      <td>94</td>\n",
       "      <td>28.1</td>\n",
       "      <td>0.167</td>\n",
       "      <td>21</td>\n",
       "      <td>0</td>\n",
       "    </tr>\n",
       "    <tr>\n",
       "      <th>4</th>\n",
       "      <td>0</td>\n",
       "      <td>137</td>\n",
       "      <td>40</td>\n",
       "      <td>35</td>\n",
       "      <td>168</td>\n",
       "      <td>43.1</td>\n",
       "      <td>2.288</td>\n",
       "      <td>33</td>\n",
       "      <td>1</td>\n",
       "    </tr>\n",
       "  </tbody>\n",
       "</table>\n",
       "</div>"
      ],
      "text/plain": [
       "   0    1   2   3    4     5      6   7  8\n",
       "0  6  148  72  35    0  33.6  0.627  50  1\n",
       "1  1   85  66  29    0  26.6  0.351  31  0\n",
       "2  8  183  64   0    0  23.3  0.672  32  1\n",
       "3  1   89  66  23   94  28.1  0.167  21  0\n",
       "4  0  137  40  35  168  43.1  2.288  33  1"
      ]
     },
     "execution_count": 3,
     "metadata": {},
     "output_type": "execute_result"
    }
   ],
   "source": [
    "df=pd.read_csv(\"//data//pima-indians-diabetes.csv\", \n",
    "               header=None)\n",
    "df.head()"
   ]
  },
  {
   "cell_type": "markdown",
   "metadata": {},
   "source": [
    "## Splitting training and validation data"
   ]
  },
  {
   "cell_type": "code",
   "execution_count": 7,
   "metadata": {
    "collapsed": false
   },
   "outputs": [
    {
     "data": {
      "text/html": [
       "<div>\n",
       "<table border=\"1\" class=\"dataframe\">\n",
       "  <thead>\n",
       "    <tr style=\"text-align: right;\">\n",
       "      <th></th>\n",
       "      <th>0</th>\n",
       "      <th>1</th>\n",
       "      <th>2</th>\n",
       "      <th>3</th>\n",
       "      <th>4</th>\n",
       "      <th>5</th>\n",
       "      <th>6</th>\n",
       "      <th>7</th>\n",
       "    </tr>\n",
       "  </thead>\n",
       "  <tbody>\n",
       "    <tr>\n",
       "      <th>580</th>\n",
       "      <td>0</td>\n",
       "      <td>151</td>\n",
       "      <td>90</td>\n",
       "      <td>46</td>\n",
       "      <td>0</td>\n",
       "      <td>42.1</td>\n",
       "      <td>0.371</td>\n",
       "      <td>21</td>\n",
       "    </tr>\n",
       "    <tr>\n",
       "      <th>418</th>\n",
       "      <td>1</td>\n",
       "      <td>83</td>\n",
       "      <td>68</td>\n",
       "      <td>0</td>\n",
       "      <td>0</td>\n",
       "      <td>18.2</td>\n",
       "      <td>0.624</td>\n",
       "      <td>27</td>\n",
       "    </tr>\n",
       "    <tr>\n",
       "      <th>764</th>\n",
       "      <td>2</td>\n",
       "      <td>122</td>\n",
       "      <td>70</td>\n",
       "      <td>27</td>\n",
       "      <td>0</td>\n",
       "      <td>36.8</td>\n",
       "      <td>0.340</td>\n",
       "      <td>27</td>\n",
       "    </tr>\n",
       "    <tr>\n",
       "      <th>363</th>\n",
       "      <td>4</td>\n",
       "      <td>146</td>\n",
       "      <td>78</td>\n",
       "      <td>0</td>\n",
       "      <td>0</td>\n",
       "      <td>38.5</td>\n",
       "      <td>0.520</td>\n",
       "      <td>67</td>\n",
       "    </tr>\n",
       "    <tr>\n",
       "      <th>757</th>\n",
       "      <td>0</td>\n",
       "      <td>123</td>\n",
       "      <td>72</td>\n",
       "      <td>0</td>\n",
       "      <td>0</td>\n",
       "      <td>36.3</td>\n",
       "      <td>0.258</td>\n",
       "      <td>52</td>\n",
       "    </tr>\n",
       "  </tbody>\n",
       "</table>\n",
       "</div>"
      ],
      "text/plain": [
       "     0    1   2   3  4     5      6   7\n",
       "580  0  151  90  46  0  42.1  0.371  21\n",
       "418  1   83  68   0  0  18.2  0.624  27\n",
       "764  2  122  70  27  0  36.8  0.340  27\n",
       "363  4  146  78   0  0  38.5  0.520  67\n",
       "757  0  123  72   0  0  36.3  0.258  52"
      ]
     },
     "execution_count": 7,
     "metadata": {},
     "output_type": "execute_result"
    }
   ],
   "source": [
    "np.random.seed(0)\n",
    "x_train, x_valid, y_train, y_valid = train_test_split(df.iloc[:,:8],df.iloc[:,8] , test_size=0.3)\n",
    "x_train.head()\n"
   ]
  },
  {
   "cell_type": "code",
   "execution_count": 8,
   "metadata": {
    "collapsed": true
   },
   "outputs": [],
   "source": [
    "x_train_array=x_train.as_matrix()\n",
    "x_valid_array=x_valid.as_matrix()\n",
    "y_train_array=y_train.as_matrix()\n",
    "y_valid_array=y_valid.as_matrix()"
   ]
  },
  {
   "cell_type": "markdown",
   "metadata": {},
   "source": [
    "## Building model architecture"
   ]
  },
  {
   "cell_type": "code",
   "execution_count": 9,
   "metadata": {
    "collapsed": false
   },
   "outputs": [],
   "source": [
    "model = Sequential()\n",
    "model.add(Dense(20, input_dim=8, activation='relu'))\n",
    "model.add(Dropout(0.1))\n",
    "model.add(Dense(5, activation='relu'))\n",
    "model.add(Dropout(0.1))\n",
    "model.add(Dense(1, activation='sigmoid'))"
   ]
  },
  {
   "cell_type": "markdown",
   "metadata": {},
   "source": [
    "## Compiling model"
   ]
  },
  {
   "cell_type": "code",
   "execution_count": 10,
   "metadata": {
    "collapsed": true
   },
   "outputs": [],
   "source": [
    "model.compile(loss='binary_crossentropy', optimizer='adam', metrics=['accuracy'])"
   ]
  },
  {
   "cell_type": "markdown",
   "metadata": {},
   "source": [
    "## Fitting the model"
   ]
  },
  {
   "cell_type": "code",
   "execution_count": 13,
   "metadata": {
    "collapsed": false
   },
   "outputs": [
    {
     "name": "stdout",
     "output_type": "stream",
     "text": [
      "Train on 537 samples, validate on 231 samples\n",
      "Epoch 1/100\n",
      "0s - loss: 0.6542 - acc: 0.6387 - val_loss: 0.6310 - val_acc: 0.6797\n",
      "Epoch 2/100\n",
      "0s - loss: 0.6543 - acc: 0.6387 - val_loss: 0.6309 - val_acc: 0.6797\n",
      "Epoch 3/100\n",
      "0s - loss: 0.6541 - acc: 0.6387 - val_loss: 0.6310 - val_acc: 0.6797\n",
      "Epoch 4/100\n",
      "0s - loss: 0.6533 - acc: 0.6387 - val_loss: 0.6310 - val_acc: 0.6797\n",
      "Epoch 5/100\n",
      "0s - loss: 0.6542 - acc: 0.6387 - val_loss: 0.6309 - val_acc: 0.6797\n",
      "Epoch 6/100\n",
      "0s - loss: 0.6538 - acc: 0.6387 - val_loss: 0.6310 - val_acc: 0.6797\n",
      "Epoch 7/100\n",
      "0s - loss: 0.6542 - acc: 0.6387 - val_loss: 0.6309 - val_acc: 0.6797\n",
      "Epoch 8/100\n",
      "0s - loss: 0.6542 - acc: 0.6387 - val_loss: 0.6309 - val_acc: 0.6797\n",
      "Epoch 9/100\n",
      "0s - loss: 0.6534 - acc: 0.6387 - val_loss: 0.6309 - val_acc: 0.6797\n",
      "Epoch 10/100\n",
      "0s - loss: 0.6542 - acc: 0.6387 - val_loss: 0.6310 - val_acc: 0.6797\n",
      "Epoch 11/100\n",
      "0s - loss: 0.6534 - acc: 0.6387 - val_loss: 0.6309 - val_acc: 0.6797\n",
      "Epoch 12/100\n",
      "0s - loss: 0.6719 - acc: 0.6387 - val_loss: 0.6309 - val_acc: 0.6797\n",
      "Epoch 13/100\n",
      "0s - loss: 0.6644 - acc: 0.6387 - val_loss: 0.6308 - val_acc: 0.6797\n",
      "Epoch 14/100\n",
      "0s - loss: 0.6525 - acc: 0.6387 - val_loss: 0.6309 - val_acc: 0.6797\n",
      "Epoch 15/100\n",
      "0s - loss: 0.6542 - acc: 0.6387 - val_loss: 0.6309 - val_acc: 0.6797\n",
      "Epoch 16/100\n",
      "0s - loss: 0.6542 - acc: 0.6387 - val_loss: 0.6309 - val_acc: 0.6797\n",
      "Epoch 17/100\n",
      "0s - loss: 0.6564 - acc: 0.6387 - val_loss: 0.6310 - val_acc: 0.6797\n",
      "Epoch 18/100\n",
      "0s - loss: 0.6542 - acc: 0.6387 - val_loss: 0.6309 - val_acc: 0.6797\n",
      "Epoch 19/100\n",
      "0s - loss: 0.6542 - acc: 0.6387 - val_loss: 0.6309 - val_acc: 0.6797\n",
      "Epoch 20/100\n",
      "0s - loss: 0.6526 - acc: 0.6387 - val_loss: 0.6309 - val_acc: 0.6797\n",
      "Epoch 21/100\n",
      "0s - loss: 0.6590 - acc: 0.6387 - val_loss: 0.6309 - val_acc: 0.6797\n",
      "Epoch 22/100\n",
      "0s - loss: 0.6542 - acc: 0.6387 - val_loss: 0.6310 - val_acc: 0.6797\n",
      "Epoch 23/100\n",
      "0s - loss: 0.6542 - acc: 0.6387 - val_loss: 0.6309 - val_acc: 0.6797\n",
      "Epoch 24/100\n",
      "0s - loss: 0.6542 - acc: 0.6387 - val_loss: 0.6309 - val_acc: 0.6797\n",
      "Epoch 25/100\n",
      "0s - loss: 0.6542 - acc: 0.6387 - val_loss: 0.6309 - val_acc: 0.6797\n",
      "Epoch 26/100\n",
      "0s - loss: 0.6534 - acc: 0.6387 - val_loss: 0.6310 - val_acc: 0.6797\n",
      "Epoch 27/100\n",
      "0s - loss: 0.6542 - acc: 0.6387 - val_loss: 0.6309 - val_acc: 0.6797\n",
      "Epoch 28/100\n",
      "0s - loss: 0.6534 - acc: 0.6387 - val_loss: 0.6309 - val_acc: 0.6797\n",
      "Epoch 29/100\n",
      "0s - loss: 0.6542 - acc: 0.6387 - val_loss: 0.6310 - val_acc: 0.6797\n",
      "Epoch 30/100\n",
      "0s - loss: 0.6542 - acc: 0.6387 - val_loss: 0.6309 - val_acc: 0.6797\n",
      "Epoch 31/100\n",
      "0s - loss: 0.6542 - acc: 0.6387 - val_loss: 0.6310 - val_acc: 0.6797\n",
      "Epoch 32/100\n",
      "0s - loss: 0.6542 - acc: 0.6387 - val_loss: 0.6309 - val_acc: 0.6797\n",
      "Epoch 33/100\n",
      "0s - loss: 0.6542 - acc: 0.6387 - val_loss: 0.6309 - val_acc: 0.6797\n",
      "Epoch 34/100\n",
      "0s - loss: 0.6823 - acc: 0.6387 - val_loss: 0.6308 - val_acc: 0.6797\n",
      "Epoch 35/100\n",
      "0s - loss: 0.6542 - acc: 0.6387 - val_loss: 0.6309 - val_acc: 0.6797\n",
      "Epoch 36/100\n",
      "0s - loss: 0.6542 - acc: 0.6387 - val_loss: 0.6309 - val_acc: 0.6797\n",
      "Epoch 37/100\n",
      "0s - loss: 0.6542 - acc: 0.6387 - val_loss: 0.6309 - val_acc: 0.6797\n",
      "Epoch 38/100\n",
      "0s - loss: 0.6534 - acc: 0.6387 - val_loss: 0.6308 - val_acc: 0.6797\n",
      "Epoch 39/100\n",
      "0s - loss: 0.6542 - acc: 0.6387 - val_loss: 0.6308 - val_acc: 0.6797\n",
      "Epoch 40/100\n",
      "0s - loss: 0.6536 - acc: 0.6387 - val_loss: 0.6309 - val_acc: 0.6797\n",
      "Epoch 41/100\n",
      "0s - loss: 0.6542 - acc: 0.6387 - val_loss: 0.6309 - val_acc: 0.6797\n",
      "Epoch 42/100\n",
      "0s - loss: 0.6824 - acc: 0.6387 - val_loss: 0.6308 - val_acc: 0.6797\n",
      "Epoch 43/100\n",
      "0s - loss: 0.6542 - acc: 0.6387 - val_loss: 0.6307 - val_acc: 0.6797\n",
      "Epoch 44/100\n",
      "0s - loss: 0.6542 - acc: 0.6387 - val_loss: 0.6309 - val_acc: 0.6797\n",
      "Epoch 45/100\n",
      "0s - loss: 0.6542 - acc: 0.6387 - val_loss: 0.6309 - val_acc: 0.6797\n",
      "Epoch 46/100\n",
      "0s - loss: 0.6542 - acc: 0.6387 - val_loss: 0.6309 - val_acc: 0.6797\n",
      "Epoch 47/100\n",
      "0s - loss: 0.6542 - acc: 0.6387 - val_loss: 0.6308 - val_acc: 0.6797\n",
      "Epoch 48/100\n",
      "0s - loss: 0.6534 - acc: 0.6387 - val_loss: 0.6308 - val_acc: 0.6797\n",
      "Epoch 49/100\n",
      "0s - loss: 0.6542 - acc: 0.6387 - val_loss: 0.6309 - val_acc: 0.6797\n",
      "Epoch 50/100\n",
      "0s - loss: 0.6542 - acc: 0.6387 - val_loss: 0.6309 - val_acc: 0.6797\n",
      "Epoch 51/100\n",
      "0s - loss: 0.6534 - acc: 0.6387 - val_loss: 0.6308 - val_acc: 0.6797\n",
      "Epoch 52/100\n",
      "0s - loss: 0.6542 - acc: 0.6387 - val_loss: 0.6308 - val_acc: 0.6797\n",
      "Epoch 53/100\n",
      "0s - loss: 0.6542 - acc: 0.6387 - val_loss: 0.6309 - val_acc: 0.6797\n",
      "Epoch 54/100\n",
      "0s - loss: 0.6542 - acc: 0.6387 - val_loss: 0.6308 - val_acc: 0.6797\n",
      "Epoch 55/100\n",
      "0s - loss: 0.6542 - acc: 0.6387 - val_loss: 0.6308 - val_acc: 0.6797\n",
      "Epoch 56/100\n",
      "0s - loss: 0.6542 - acc: 0.6387 - val_loss: 0.6309 - val_acc: 0.6797\n",
      "Epoch 57/100\n",
      "0s - loss: 0.6542 - acc: 0.6387 - val_loss: 0.6308 - val_acc: 0.6797\n",
      "Epoch 58/100\n",
      "0s - loss: 0.6542 - acc: 0.6387 - val_loss: 0.6309 - val_acc: 0.6797\n",
      "Epoch 59/100\n",
      "0s - loss: 0.6542 - acc: 0.6387 - val_loss: 0.6308 - val_acc: 0.6797\n",
      "Epoch 60/100\n",
      "0s - loss: 0.6536 - acc: 0.6387 - val_loss: 0.6309 - val_acc: 0.6797\n",
      "Epoch 61/100\n",
      "0s - loss: 0.6535 - acc: 0.6387 - val_loss: 0.6308 - val_acc: 0.6797\n",
      "Epoch 62/100\n",
      "0s - loss: 0.6542 - acc: 0.6387 - val_loss: 0.6308 - val_acc: 0.6797\n",
      "Epoch 63/100\n",
      "0s - loss: 0.6542 - acc: 0.6387 - val_loss: 0.6308 - val_acc: 0.6797\n",
      "Epoch 64/100\n",
      "0s - loss: 0.6542 - acc: 0.6387 - val_loss: 0.6309 - val_acc: 0.6797\n",
      "Epoch 65/100\n",
      "0s - loss: 0.6542 - acc: 0.6387 - val_loss: 0.6308 - val_acc: 0.6797\n",
      "Epoch 66/100\n",
      "0s - loss: 0.6542 - acc: 0.6387 - val_loss: 0.6308 - val_acc: 0.6797\n",
      "Epoch 67/100\n",
      "0s - loss: 0.6542 - acc: 0.6387 - val_loss: 0.6307 - val_acc: 0.6797\n",
      "Epoch 68/100\n",
      "0s - loss: 0.6542 - acc: 0.6387 - val_loss: 0.6310 - val_acc: 0.6797\n",
      "Epoch 69/100\n",
      "0s - loss: 0.6542 - acc: 0.6387 - val_loss: 0.6309 - val_acc: 0.6797\n",
      "Epoch 70/100\n",
      "0s - loss: 0.6542 - acc: 0.6387 - val_loss: 0.6309 - val_acc: 0.6797\n",
      "Epoch 71/100\n",
      "0s - loss: 0.6535 - acc: 0.6387 - val_loss: 0.6308 - val_acc: 0.6797\n",
      "Epoch 72/100\n",
      "0s - loss: 0.6542 - acc: 0.6387 - val_loss: 0.6309 - val_acc: 0.6797\n",
      "Epoch 73/100\n",
      "0s - loss: 0.6542 - acc: 0.6387 - val_loss: 0.6308 - val_acc: 0.6797\n",
      "Epoch 74/100\n",
      "0s - loss: 0.6533 - acc: 0.6387 - val_loss: 0.6308 - val_acc: 0.6797\n",
      "Epoch 75/100\n",
      "0s - loss: 0.6534 - acc: 0.6387 - val_loss: 0.6310 - val_acc: 0.6797\n",
      "Epoch 76/100\n",
      "0s - loss: 0.6542 - acc: 0.6387 - val_loss: 0.6309 - val_acc: 0.6797\n",
      "Epoch 77/100\n",
      "0s - loss: 0.6823 - acc: 0.6387 - val_loss: 0.6308 - val_acc: 0.6797\n",
      "Epoch 78/100\n",
      "0s - loss: 0.6542 - acc: 0.6387 - val_loss: 0.6308 - val_acc: 0.6797\n",
      "Epoch 79/100\n",
      "0s - loss: 0.6542 - acc: 0.6387 - val_loss: 0.6310 - val_acc: 0.6797\n",
      "Epoch 80/100\n",
      "0s - loss: 0.6542 - acc: 0.6387 - val_loss: 0.6308 - val_acc: 0.6797\n",
      "Epoch 81/100\n",
      "0s - loss: 0.6542 - acc: 0.6387 - val_loss: 0.6309 - val_acc: 0.6797\n",
      "Epoch 82/100\n",
      "0s - loss: 0.6542 - acc: 0.6387 - val_loss: 0.6309 - val_acc: 0.6797\n",
      "Epoch 83/100\n",
      "0s - loss: 0.6785 - acc: 0.6387 - val_loss: 0.6310 - val_acc: 0.6797\n",
      "Epoch 84/100\n",
      "0s - loss: 0.6542 - acc: 0.6387 - val_loss: 0.6308 - val_acc: 0.6797\n",
      "Epoch 85/100\n",
      "0s - loss: 0.6542 - acc: 0.6387 - val_loss: 0.6308 - val_acc: 0.6797\n",
      "Epoch 86/100\n",
      "0s - loss: 0.6542 - acc: 0.6387 - val_loss: 0.6308 - val_acc: 0.6797\n",
      "Epoch 87/100\n",
      "0s - loss: 0.6542 - acc: 0.6387 - val_loss: 0.6308 - val_acc: 0.6797\n",
      "Epoch 88/100\n",
      "0s - loss: 0.6542 - acc: 0.6387 - val_loss: 0.6308 - val_acc: 0.6797\n",
      "Epoch 89/100\n",
      "0s - loss: 0.6542 - acc: 0.6387 - val_loss: 0.6308 - val_acc: 0.6797\n",
      "Epoch 90/100\n",
      "0s - loss: 0.6542 - acc: 0.6387 - val_loss: 0.6309 - val_acc: 0.6797\n",
      "Epoch 91/100\n",
      "0s - loss: 0.6542 - acc: 0.6387 - val_loss: 0.6309 - val_acc: 0.6797\n",
      "Epoch 92/100\n",
      "0s - loss: 0.6542 - acc: 0.6387 - val_loss: 0.6307 - val_acc: 0.6797\n",
      "Epoch 93/100\n",
      "0s - loss: 0.6542 - acc: 0.6387 - val_loss: 0.6308 - val_acc: 0.6797\n",
      "Epoch 94/100\n",
      "0s - loss: 0.6542 - acc: 0.6387 - val_loss: 0.6309 - val_acc: 0.6797\n",
      "Epoch 95/100\n",
      "0s - loss: 0.6542 - acc: 0.6387 - val_loss: 0.6308 - val_acc: 0.6797\n",
      "Epoch 96/100\n",
      "0s - loss: 0.6542 - acc: 0.6387 - val_loss: 0.6307 - val_acc: 0.6797\n",
      "Epoch 97/100\n",
      "0s - loss: 0.6542 - acc: 0.6387 - val_loss: 0.6308 - val_acc: 0.6797\n",
      "Epoch 98/100\n",
      "0s - loss: 0.6542 - acc: 0.6387 - val_loss: 0.6308 - val_acc: 0.6797\n",
      "Epoch 99/100\n",
      "0s - loss: 0.6542 - acc: 0.6387 - val_loss: 0.6308 - val_acc: 0.6797\n",
      "Epoch 100/100\n",
      "0s - loss: 0.6542 - acc: 0.6387 - val_loss: 0.6309 - val_acc: 0.6797\n"
     ]
    },
    {
     "data": {
      "text/plain": [
       "<keras.callbacks.History at 0xc182319358>"
      ]
     },
     "execution_count": 13,
     "metadata": {},
     "output_type": "execute_result"
    }
   ],
   "source": [
    "model.fit(x_train_array, y_train_array, validation_data=(x_valid_array,y_valid_array), epochs=100, batch_size=10, verbose=2)"
   ]
  },
  {
   "cell_type": "code",
   "execution_count": null,
   "metadata": {
    "collapsed": true
   },
   "outputs": [],
   "source": []
  }
 ],
 "metadata": {
  "anaconda-cloud": {},
  "kernelspec": {
   "display_name": "Python [conda root]",
   "language": "python",
   "name": "conda-root-py"
  },
  "language_info": {
   "codemirror_mode": {
    "name": "ipython",
    "version": 3
   },
   "file_extension": ".py",
   "mimetype": "text/x-python",
   "name": "python",
   "nbconvert_exporter": "python",
   "pygments_lexer": "ipython3",
   "version": "3.5.2"
  }
 },
 "nbformat": 4,
 "nbformat_minor": 1
}
